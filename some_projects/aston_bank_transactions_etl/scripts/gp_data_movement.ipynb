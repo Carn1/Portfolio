{
 "cells": [
  {
   "cell_type": "code",
   "execution_count": 1,
   "metadata": {},
   "outputs": [],
   "source": [
    "import pandas as pd\n",
    "\n",
    "import psycopg2\n",
    "\n",
    "import csv\n",
    "import requests\n",
    "import xml.etree.ElementTree as ET\n"
   ]
  },
  {
   "cell_type": "markdown",
   "metadata": {},
   "source": [
    "## Загрузка данных из внешних таблиц в буферные внутренние в Greenplum"
   ]
  },
  {
   "cell_type": "code",
   "execution_count": 5,
   "metadata": {},
   "outputs": [],
   "source": [
    "# Очистка буферных таблиц\n",
    "\n",
    "with psycopg2.connect(\n",
    "        host='172.17.1.32',\n",
    "        user='gpadmin',\n",
    "        password='',\n",
    "        dbname='wave15_team_a',\n",
    "        port=5432) as conn:\n",
    "    with conn.cursor() as cur:\n",
    "        cur.execute('SET search_path TO ashkinadzi')\n",
    "        cur.execute('TRUNCATE gp_clients_buff, gp_securities_buff, gp_currencies_buff, gp_security_transactions_buff, gp_bank_transactions_buff RESTART IDENTITY CASCADE')"
   ]
  },
  {
   "cell_type": "code",
   "execution_count": null,
   "metadata": {},
   "outputs": [],
   "source": [
    "# Загрузка данных из внешних таблиц в HDFS во внутренние буферные в Greenplum\n",
    "\n",
    "with psycopg2.connect(\n",
    "        host='172.17.1.32',\n",
    "        user='gpadmin',\n",
    "        password='',\n",
    "        dbname='wave15_team_a',\n",
    "        port=5432) as conn:\n",
    "    with conn.cursor() as cur:\n",
    "        cur.execute('SET search_path TO ashkinadzi')\n",
    "        #next(f)\n",
    "        #cur.copy_from('gp_ext_clients', 'gp_clients_buff', columns=['client_id', 'client_name', 'client_email', 'client_phone', 'client_address'], sep=\";\")\n",
    "        cur.execute('INSERT INTO gp_clients_buff SELECT * FROM ext_clients')\n",
    "        cur.execute('INSERT INTO gp_securities_buff SELECT * FROM ext_securities')\n",
    "        cur.execute('INSERT INTO gp_currencies_buff SELECT * FROM ext_currencies')\n",
    "        cur.execute('INSERT INTO gp_security_transactions_buff SELECT * FROM ext_security_transactions')\n",
    "        cur.execute('INSERT INTO gp_bank_transactions_buff SELECT * FROM ext_bank_transactions')"
   ]
  },
  {
   "cell_type": "markdown",
   "metadata": {},
   "source": [
    "## Перемещение данных из буферных таблиц в базовые с помощью хранимых функций"
   ]
  },
  {
   "cell_type": "code",
   "execution_count": null,
   "metadata": {},
   "outputs": [],
   "source": [
    "# Перемещение данных из буферных таблиц в базовые с помощью хранимых функций\n",
    "\n",
    "with psycopg2.connect(\n",
    "        host='172.17.1.32',\n",
    "        user='gpadmin',\n",
    "        password='',\n",
    "        dbname='wave15_team_a',\n",
    "        port=5432) as conn:\n",
    "    with conn.cursor() as cur:\n",
    "        cur.execute('SET search_path TO ashkinadzi')\n",
    "        #next(f)\n",
    "        #cur.copy_from('gp_ext_clients', 'gp_clients_buff', columns=['client_id', 'client_name', 'client_email', 'client_phone', 'client_address'], sep=\";\")\n",
    "        cur.execute('SELECT gp_buff_to_base_transfer_clients()')\n",
    "        cur.execute('SELECT gp_buff_to_base_transfer_securities()')\n",
    "        cur.execute('SELECT gp_buff_to_base_transfer_currencies()')\n",
    "        cur.execute('SELECT gp_buff_to_base_transfer_security_transactions()')\n",
    "        cur.execute('SELECT gp_buff_to_base_transfer_bank_transactions()')"
   ]
  },
  {
   "cell_type": "markdown",
   "metadata": {},
   "source": [
    "## Вспомогательные скрипты"
   ]
  },
  {
   "cell_type": "code",
   "execution_count": 6,
   "metadata": {},
   "outputs": [],
   "source": [
    "# Очистка базовых таблиц\n",
    "\n",
    "with psycopg2.connect(\n",
    "        host='172.17.1.32',\n",
    "        user='gpadmin',\n",
    "        password='',\n",
    "        dbname='wave15_team_a',\n",
    "        port=5432) as conn:\n",
    "    with conn.cursor() as cur:\n",
    "        cur.execute('SET search_path TO ashkinadzi')\n",
    "        cur.execute('TRUNCATE gp_clients_base, gp_securities_base, gp_currencies_base, gp_security_transactions_base, gp_bank_transactions_base RESTART IDENTITY CASCADE')"
   ]
  }
 ],
 "metadata": {
  "kernelspec": {
   "display_name": "Python 3",
   "language": "python",
   "name": "python3"
  },
  "language_info": {
   "codemirror_mode": {
    "name": "ipython",
    "version": 3
   },
   "file_extension": ".py",
   "mimetype": "text/x-python",
   "name": "python",
   "nbconvert_exporter": "python",
   "pygments_lexer": "ipython3",
   "version": "3.12.3"
  }
 },
 "nbformat": 4,
 "nbformat_minor": 2
}
