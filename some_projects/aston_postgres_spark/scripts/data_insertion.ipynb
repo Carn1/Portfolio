{
 "cells": [
  {
   "cell_type": "markdown",
   "metadata": {},
   "source": [
    "# Черновик"
   ]
  },
  {
   "cell_type": "code",
   "execution_count": 77,
   "metadata": {},
   "outputs": [],
   "source": [
    "try:\n",
    "    conn = psycopg2.connect(\n",
    "        host='172.17.1.32',\n",
    "        user='wave15_user_a3',\n",
    "        password='pass',\n",
    "        dbname='wave15_team_a',\n",
    "        port=15432\n",
    "        \n",
    "    )\n",
    "\n",
    "except:\n",
    "    print('Can`t establish connection to database')\n",
    "\n"
   ]
  },
  {
   "cell_type": "code",
   "execution_count": null,
   "metadata": {},
   "outputs": [],
   "source": [
    "\n",
    "cur = conn.cursor()\n",
    "with open('clients.csv', 'r') as f:\n",
    "    next(f)  # Skip the header row.\n",
    "    cur.copy_from(f, 'user3.clients', sep=',')\n",
    "conn.commit()\n",
    "cur.close()\n",
    "conn.close()"
   ]
  },
  {
   "cell_type": "code",
   "execution_count": null,
   "metadata": {},
   "outputs": [],
   "source": [
    "with open('clients.csv', 'r') as f:\n",
    "    next(f)  # Skip the header row.\n",
    "    with conn.cursor() as curs:\n",
    "        cur.copy_from(f, 'ashkinadzi.clients', sep=',')\n",
    "    "
   ]
  },
  {
   "cell_type": "code",
   "execution_count": null,
   "metadata": {},
   "outputs": [],
   "source": [
    "with open('clients.csv', newline='') as csvfile:\n",
    "    reader = csv.DictReader(csvfile)\n",
    "    for row in reader:\n",
    "        print(row['client_id'])"
   ]
  },
  {
   "cell_type": "code",
   "execution_count": null,
   "metadata": {},
   "outputs": [],
   "source": [
    "with open('clients.csv', 'r') as f:\n",
    "    next(f)\n",
    "    print(f.readlines()[1:])"
   ]
  },
  {
   "cell_type": "code",
   "execution_count": null,
   "metadata": {},
   "outputs": [],
   "source": [
    "list_of_csvs = ['clients.csv', 'securities.csv', 'security_transactions.csv', 'bank_transactions.csv']\n",
    "list_of_tables = ['user3.clients', 'user3.securities', 'user3.security_transactions', 'user3.transactions']\n",
    "\n",
    "with conn.cursor() as cur:\n",
    "\n",
    "    try:\n",
    "        for file, table in zip(list_of_csvs, list_of_tables):\n",
    "            with open(file, 'r') as f:\n",
    "                next(f)\n",
    "                cur.copy_from(f, table, sep=',')\n",
    "            #conn.commit()\n",
    "            #cur.close()\n",
    "            #conn.close()\n",
    "    finally:\n",
    "        #cur.close()\n",
    "        #conn.close()\n",
    "        print('OK')"
   ]
  },
  {
   "cell_type": "code",
   "execution_count": null,
   "metadata": {},
   "outputs": [],
   "source": [
    "#Проверка соединения с базой\n",
    "\n",
    "with psycopg2.connect(\n",
    "        host='172.17.1.32',\n",
    "        user='wave15_user_a3',\n",
    "        password='pass',\n",
    "        dbname='wave15_team_a',\n",
    "        port=15432) as conn:\n",
    "    \n",
    "    with conn.cursor() as curs:\n",
    "        curs.execute('SELECT * FROM ashkinadzi.transactions_buff WHERE client_id = 3')\n",
    "        all_clients = curs.fetchall()\n",
    "        print(all_clients)"
   ]
  },
  {
   "cell_type": "markdown",
   "metadata": {},
   "source": [
    "# Отсюда пошел чистовой код"
   ]
  },
  {
   "cell_type": "code",
   "execution_count": 1,
   "metadata": {},
   "outputs": [],
   "source": [
    "import pandas as pd\n",
    "from sqlalchemy import create_engine, text\n",
    "import psycopg2\n",
    "import time\n",
    "import csv\n",
    "import requests\n",
    "import xml.etree.ElementTree as ET\n"
   ]
  },
  {
   "cell_type": "markdown",
   "metadata": {},
   "source": [
    "## Получение и преобразование в csv данных о валютах по API"
   ]
  },
  {
   "cell_type": "code",
   "execution_count": 19,
   "metadata": {},
   "outputs": [],
   "source": [
    "def fetch_xml_from_cbr(url):\n",
    "    \"\"\"\n",
    "    Загружает XML файл с сайта ЦБ РФ.\n",
    "    \"\"\"\n",
    "    try:\n",
    "        response = requests.get(url)\n",
    "        response.raise_for_status()  # Проверяем статус ответа\n",
    "        return response.text  # Возвращаем XML в виде строки\n",
    "    except Exception as e:\n",
    "        print(f\"Ошибка при загрузке XML файла: {e}\")\n",
    "        return None\n",
    "\n",
    "def parse_cbr_xml_to_dataframe(xml_data):\n",
    "    \"\"\"\n",
    "    Преобразует XML данные из структуры ЦБ РФ в pandas DataFrame.\n",
    "    \"\"\"\n",
    "    try:\n",
    "        root = ET.fromstring(xml_data)  # Парсим XML\n",
    "        rows = []\n",
    "\n",
    "        # Ищем элементы <Valute>\n",
    "        for valute in root.findall(\"Valute\"):\n",
    "            row = {\n",
    "                \"ID\": valute.get(\"ID\"),  # Атрибут ID\n",
    "                \"NumCode\": valute.findtext(\"NumCode\"),\n",
    "                \"CharCode\": valute.findtext(\"CharCode\"),\n",
    "                \"Nominal\": int(valute.findtext(\"Nominal\")),\n",
    "                \"Name\": valute.findtext(\"Name\"),\n",
    "                \"Value\": float(valute.findtext(\"Value\").replace(\",\", \".\")),\n",
    "                \"Date\": root.get(\"Date\"),  # Дата из корневого элемента\n",
    "            }\n",
    "            rows.append(row)\n",
    "\n",
    "        # Преобразуем список словарей в DataFrame\n",
    "        df = pd.DataFrame(rows)\n",
    "        return df\n",
    "    except Exception as e:\n",
    "        print(f\"Ошибка при обработке XML: {e}\")\n",
    "        return pd.DataFrame()  # Возвращаем пустой DataFrame в случае ошибки"
   ]
  },
  {
   "cell_type": "code",
   "execution_count": 20,
   "metadata": {},
   "outputs": [
    {
     "data": {
      "text/html": [
       "<div>\n",
       "<style scoped>\n",
       "    .dataframe tbody tr th:only-of-type {\n",
       "        vertical-align: middle;\n",
       "    }\n",
       "\n",
       "    .dataframe tbody tr th {\n",
       "        vertical-align: top;\n",
       "    }\n",
       "\n",
       "    .dataframe thead th {\n",
       "        text-align: right;\n",
       "    }\n",
       "</style>\n",
       "<table border=\"1\" class=\"dataframe\">\n",
       "  <thead>\n",
       "    <tr style=\"text-align: right;\">\n",
       "      <th></th>\n",
       "      <th>NumCode</th>\n",
       "      <th>CharCode</th>\n",
       "      <th>Nominal</th>\n",
       "      <th>Name</th>\n",
       "      <th>Value</th>\n",
       "      <th>Date</th>\n",
       "    </tr>\n",
       "    <tr>\n",
       "      <th>ID</th>\n",
       "      <th></th>\n",
       "      <th></th>\n",
       "      <th></th>\n",
       "      <th></th>\n",
       "      <th></th>\n",
       "      <th></th>\n",
       "    </tr>\n",
       "  </thead>\n",
       "  <tbody>\n",
       "    <tr>\n",
       "      <th>R01010</th>\n",
       "      <td>036</td>\n",
       "      <td>AUD</td>\n",
       "      <td>1</td>\n",
       "      <td>Австралийский доллар</td>\n",
       "      <td>63.8707</td>\n",
       "      <td>11.12.2024</td>\n",
       "    </tr>\n",
       "    <tr>\n",
       "      <th>R01020A</th>\n",
       "      <td>944</td>\n",
       "      <td>AZN</td>\n",
       "      <td>1</td>\n",
       "      <td>Азербайджанский манат</td>\n",
       "      <td>58.8426</td>\n",
       "      <td>11.12.2024</td>\n",
       "    </tr>\n",
       "    <tr>\n",
       "      <th>R01035</th>\n",
       "      <td>826</td>\n",
       "      <td>GBP</td>\n",
       "      <td>1</td>\n",
       "      <td>Фунт стерлингов Соединенного королевства</td>\n",
       "      <td>128.0015</td>\n",
       "      <td>11.12.2024</td>\n",
       "    </tr>\n",
       "    <tr>\n",
       "      <th>R01060</th>\n",
       "      <td>051</td>\n",
       "      <td>AMD</td>\n",
       "      <td>100</td>\n",
       "      <td>Армянских драмов</td>\n",
       "      <td>25.3330</td>\n",
       "      <td>11.12.2024</td>\n",
       "    </tr>\n",
       "    <tr>\n",
       "      <th>R01090B</th>\n",
       "      <td>933</td>\n",
       "      <td>BYN</td>\n",
       "      <td>1</td>\n",
       "      <td>Белорусский рубль</td>\n",
       "      <td>29.3790</td>\n",
       "      <td>11.12.2024</td>\n",
       "    </tr>\n",
       "  </tbody>\n",
       "</table>\n",
       "</div>"
      ],
      "text/plain": [
       "        NumCode CharCode  Nominal                                      Name  \\\n",
       "ID                                                                            \n",
       "R01010      036      AUD        1                      Австралийский доллар   \n",
       "R01020A     944      AZN        1                     Азербайджанский манат   \n",
       "R01035      826      GBP        1  Фунт стерлингов Соединенного королевства   \n",
       "R01060      051      AMD      100                          Армянских драмов   \n",
       "R01090B     933      BYN        1                         Белорусский рубль   \n",
       "\n",
       "            Value        Date  \n",
       "ID                             \n",
       "R01010    63.8707  11.12.2024  \n",
       "R01020A   58.8426  11.12.2024  \n",
       "R01035   128.0015  11.12.2024  \n",
       "R01060    25.3330  11.12.2024  \n",
       "R01090B   29.3790  11.12.2024  "
      ]
     },
     "metadata": {},
     "output_type": "display_data"
    }
   ],
   "source": [
    "date = '11/12/2024'\n",
    "\n",
    "if __name__ == \"__main__\":\n",
    "    # Ссылка на XML файл ЦБ РФ\n",
    "    url = f\"https://www.cbr.ru/scripts/XML_daily.asp?date_req={date}\"\n",
    "\n",
    "    # Загрузка XML данных\n",
    "    xml_data = fetch_xml_from_cbr(url)\n",
    "    \n",
    "    if xml_data:\n",
    "        # Преобразуем XML в DataFrame\n",
    "        df = parse_cbr_xml_to_dataframe(xml_data)\n",
    "        df.set_index('ID', inplace=True)\n",
    "        display(df.head())\n",
    "        #Преобразование датафрейма в csv файл\n",
    "        df.to_csv('currencies.csv', sep=\";\", encoding='utf8')\n",
    "\n"
   ]
  },
  {
   "cell_type": "markdown",
   "metadata": {},
   "source": [
    "## Изменение разделителя таблиц clients и securities для корректной загрузки в postgres"
   ]
  },
  {
   "cell_type": "code",
   "execution_count": 22,
   "metadata": {},
   "outputs": [],
   "source": [
    "#Изменение разделителя в исходном csv файле с запятой на точку с запятой для правильного парсинга столбцов для таблицы clients_buff\n",
    "\n",
    "df = pd.read_csv('clients.csv', index_col='client_id')\n",
    "df.head()\n",
    "df.to_csv('clients2.csv', sep=\";\")"
   ]
  },
  {
   "cell_type": "code",
   "execution_count": 24,
   "metadata": {},
   "outputs": [],
   "source": [
    "#Изменение разделителя в исходном csv файле с запятой на точку с запятой для правильного парсинга столбцов для таблицы securities_buff\n",
    "\n",
    "df = pd.read_csv('securities.csv', index_col='security_id')\n",
    "df.head()\n",
    "df.to_csv('securities2.csv', sep=\";\")"
   ]
  },
  {
   "cell_type": "markdown",
   "metadata": {},
   "source": [
    "## Загрузка данных в буферные таблицы"
   ]
  },
  {
   "cell_type": "code",
   "execution_count": 73,
   "metadata": {},
   "outputs": [],
   "source": [
    "# Очистка буферных таблиц\n",
    "\n",
    "with psycopg2.connect(\n",
    "        host='172.17.1.32',\n",
    "        user='wave15_user_a3',\n",
    "        password='pass',\n",
    "        dbname='wave15_team_a',\n",
    "        port=15432) as conn:\n",
    "    with conn.cursor() as cur:\n",
    "        cur.execute('SET search_path TO ashkinadzi')\n",
    "        cur.execute('TRUNCATE ashkinadzi.clients_buff, ashkinadzi.securities_buff, ashkinadzi.currencies_buff, ashkinadzi.security_transactions_buff, ashkinadzi.transactions_buff RESTART IDENTITY CASCADE')"
   ]
  },
  {
   "cell_type": "code",
   "execution_count": 74,
   "metadata": {},
   "outputs": [],
   "source": [
    "#Заполнение таблицы clients_buff\n",
    "\n",
    "with psycopg2.connect(\n",
    "        host='172.17.1.32',\n",
    "        user='wave15_user_a3',\n",
    "        password='pass',\n",
    "        dbname='wave15_team_a',\n",
    "        port=15432) as conn:\n",
    "    with conn.cursor() as cur, open('clients2.csv', 'r') as f:\n",
    "        cur.execute('SET search_path TO ashkinadzi')\n",
    "        next(f)\n",
    "        cur.copy_from(f, 'clients_buff', columns=['client_id', 'client_name', 'client_email', 'client_phone', 'client_address'], sep=\";\")"
   ]
  },
  {
   "cell_type": "code",
   "execution_count": 75,
   "metadata": {},
   "outputs": [],
   "source": [
    "#Заполнение таблицы securities_buff\n",
    "\n",
    "with psycopg2.connect(\n",
    "        host='172.17.1.32',\n",
    "        user='wave15_user_a3',\n",
    "        password='pass',\n",
    "        dbname='wave15_team_a',\n",
    "        port=15432) as conn:\n",
    "    \n",
    "    with conn.cursor() as cur, open('securities2.csv', 'r') as f:\n",
    "        cur.execute('SET search_path TO ashkinadzi')\n",
    "        next(f)\n",
    "        cur.copy_from(f, 'securities_buff', columns=['security_id', 'security_name', 'security_type', 'market'], sep=\";\")"
   ]
  },
  {
   "cell_type": "code",
   "execution_count": 76,
   "metadata": {},
   "outputs": [],
   "source": [
    "#Заполнение таблицы currencies_buff\n",
    "\n",
    "with psycopg2.connect(\n",
    "        host='172.17.1.32',\n",
    "        user='wave15_user_a3',\n",
    "        password='pass',\n",
    "        dbname='wave15_team_a',\n",
    "        port=15432) as conn:\n",
    "    \n",
    "    with conn.cursor() as cur, open('currencies.csv', 'r', encoding=\"utf-8\") as f:\n",
    "        cur.execute('SET search_path TO ashkinadzi')\n",
    "        next(f)\n",
    "        cur.copy_from(f, 'currencies_buff', columns=['id', 'numcode', 'charcode', 'nominal', \"name\", 'value', \"date\"], sep=\";\")"
   ]
  },
  {
   "cell_type": "code",
   "execution_count": 77,
   "metadata": {},
   "outputs": [],
   "source": [
    "#Заполнение таблицы security_transactions_buff\n",
    "\n",
    "with psycopg2.connect(\n",
    "        host='172.17.1.32',\n",
    "        user='wave15_user_a3',\n",
    "        password='pass',\n",
    "        dbname='wave15_team_a',\n",
    "        port=15432) as conn:\n",
    "    \n",
    "    with conn.cursor() as cur, open('security_transactions.csv', 'r') as f:\n",
    "        cur.execute('SET search_path TO ashkinadzi')\n",
    "        next(f)\n",
    "        cur.copy_from(f, 'security_transactions_buff', columns=['client_id', 'security_id', 'transaction_date', 'transaction_type', 'quantity', 'currency', 'price'], sep=\",\")"
   ]
  },
  {
   "cell_type": "code",
   "execution_count": 78,
   "metadata": {},
   "outputs": [],
   "source": [
    "#Заполнение таблицы transactions_buff\n",
    "\n",
    "with psycopg2.connect(\n",
    "        host='172.17.1.32',\n",
    "        user='wave15_user_a3',\n",
    "        password='pass',\n",
    "        dbname='wave15_team_a',\n",
    "        port=15432) as conn:\n",
    "    \n",
    "    with conn.cursor() as cur, open('bank_transactions.csv', 'r') as f:\n",
    "        cur.execute('SET search_path TO ashkinadzi')\n",
    "        next(f)\n",
    "        cur.copy_from(f, 'transactions_buff', columns=['client_id', 'transaction_id', 'transaction_date', 'transaction_type', 'account_number', 'currency', 'amount'], sep=\",\")"
   ]
  },
  {
   "cell_type": "markdown",
   "metadata": {},
   "source": [
    "## Перенос данных из буферных таблиц в базовые"
   ]
  },
  {
   "cell_type": "code",
   "execution_count": 79,
   "metadata": {},
   "outputs": [],
   "source": [
    "# Вызов процедуры по переносу данных из буферной таблицы clients_buff в базовую clients_base\n",
    "\n",
    "with psycopg2.connect(\n",
    "        host='172.17.1.32',\n",
    "        user='wave15_user_a3',\n",
    "        password='pass',\n",
    "        dbname='wave15_team_a',\n",
    "        port=15432) as conn:\n",
    "    with conn.cursor() as cur:\n",
    "        cur.execute('SET search_path TO ashkinadzi')\n",
    "        cur.execute('CALL buff_to_base_transfer_clients()')"
   ]
  },
  {
   "cell_type": "code",
   "execution_count": 80,
   "metadata": {},
   "outputs": [],
   "source": [
    "# Вызов процедуры по переносу данных из буферной таблицы securities_buff в базовую securities_base\n",
    "\n",
    "with psycopg2.connect(\n",
    "        host='172.17.1.32',\n",
    "        user='wave15_user_a3',\n",
    "        password='pass',\n",
    "        dbname='wave15_team_a',\n",
    "        port=15432) as conn:\n",
    "    with conn.cursor() as cur:\n",
    "        cur.execute('SET search_path TO ashkinadzi')\n",
    "        cur.execute('CALL buff_to_base_transfer_securities()')"
   ]
  },
  {
   "cell_type": "code",
   "execution_count": 81,
   "metadata": {},
   "outputs": [],
   "source": [
    "# Вызов процедуры по переносу данных из буферной таблицы currencies_buff в базовую currencies_base\n",
    "\n",
    "with psycopg2.connect(\n",
    "        host='172.17.1.32',\n",
    "        user='wave15_user_a3',\n",
    "        password='pass',\n",
    "        dbname='wave15_team_a',\n",
    "        port=15432) as conn:\n",
    "    with conn.cursor() as cur:\n",
    "        cur.execute('SET search_path TO ashkinadzi')\n",
    "        cur.execute('CALL buff_to_base_transfer_currencies()')"
   ]
  },
  {
   "cell_type": "code",
   "execution_count": 82,
   "metadata": {},
   "outputs": [],
   "source": [
    "# Вызов процедуры по переносу данных из буферной таблицы security_transactions_buff в базовую security_transactions_base\n",
    "\n",
    "with psycopg2.connect(\n",
    "        host='172.17.1.32',\n",
    "        user='wave15_user_a3',\n",
    "        password='pass',\n",
    "        dbname='wave15_team_a',\n",
    "        port=15432) as conn:\n",
    "    with conn.cursor() as cur:\n",
    "        cur.execute('SET search_path TO ashkinadzi')\n",
    "        cur.execute('CALL buff_to_base_transfer_security_transactions()')"
   ]
  },
  {
   "cell_type": "code",
   "execution_count": 83,
   "metadata": {},
   "outputs": [],
   "source": [
    "# Вызов процедуры по переносу данных из буферной таблицы transactions_buff в базовую transactions_base\n",
    "\n",
    "with psycopg2.connect(\n",
    "        host='172.17.1.32',\n",
    "        user='wave15_user_a3',\n",
    "        password='pass',\n",
    "        dbname='wave15_team_a',\n",
    "        port=15432) as conn:\n",
    "    with conn.cursor() as cur:\n",
    "        cur.execute('SET search_path TO ashkinadzi')\n",
    "        cur.execute('CALL buff_to_base_transfer_transactions()')"
   ]
  },
  {
   "cell_type": "markdown",
   "metadata": {},
   "source": [
    "## Вспомогательные скрипты"
   ]
  },
  {
   "cell_type": "code",
   "execution_count": 72,
   "metadata": {},
   "outputs": [],
   "source": [
    "# Очистка базовых таблиц (на всякий случай)\n",
    "\n",
    "with psycopg2.connect(\n",
    "        host='172.17.1.32',\n",
    "        user='wave15_user_a3',\n",
    "        password='pass',\n",
    "        dbname='wave15_team_a',\n",
    "        port=15432) as conn:\n",
    "    with conn.cursor() as cur:\n",
    "        cur.execute('SET search_path TO ashkinadzi')\n",
    "        cur.execute('TRUNCATE ashkinadzi.clients_base, ashkinadzi.securities_base, ashkinadzi.currencies_base, ashkinadzi.security_transactions_base, ashkinadzi.transactions_base RESTART IDENTITY CASCADE')"
   ]
  }
 ],
 "metadata": {
  "kernelspec": {
   "display_name": "Python 3",
   "language": "python",
   "name": "python3"
  },
  "language_info": {
   "codemirror_mode": {
    "name": "ipython",
    "version": 3
   },
   "file_extension": ".py",
   "mimetype": "text/x-python",
   "name": "python",
   "nbconvert_exporter": "python",
   "pygments_lexer": "ipython3",
   "version": "3.12.3"
  }
 },
 "nbformat": 4,
 "nbformat_minor": 2
}
